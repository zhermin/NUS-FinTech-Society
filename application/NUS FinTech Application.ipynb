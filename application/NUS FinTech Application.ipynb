{
 "cells": [
  {
   "cell_type": "markdown",
   "id": "daily-reproduction",
   "metadata": {},
   "source": [
    "# NUS FinTech Case Study on Tesla Stock Prices\n",
    "\n",
    "---\n",
    "\n",
    "Use the following link to access the Tesla (TSLA) stock price dataset we have prepared: https://drive.google.com/file/d/1BkPeHzM179zSEUar5G0b_5vpeDXy-AMq/view?usp=sharing\n",
    "\n",
    "Your python script / notebook should be able to answer the following questions:\n",
    "1. Plot time series of TSLA\n",
    "2. Find the minimum and standard deviation of closing price rounded to 3dp\n",
    "3. Create a Boolean column 'Signal' that indicates whether the price increased from the previous day. How many trading days had positive signals?\n",
    "4. Assume a naive model that predicts a positive signal on every odd date and a negative signal on every even date i.e. 21 July => odd => positive. Create a Boolean column 'Naive' to represent these predictions\n",
    "5. Calculate accuracy of the naive model mentioned above.\n",
    "\n",
    "---"
   ]
  },
  {
   "cell_type": "markdown",
   "id": "classical-force",
   "metadata": {},
   "source": [
    "## Imports Required Dependencies\n",
    "Pandas and Numpy for Excel file reading and data analysis while Matplotlib for chart plotting. "
   ]
  },
  {
   "cell_type": "code",
   "execution_count": 1,
   "id": "desirable-lyric",
   "metadata": {},
   "outputs": [],
   "source": [
    "import pandas as pd\n",
    "import numpy as np\n",
    "import matplotlib.pyplot as plt"
   ]
  },
  {
   "cell_type": "code",
   "execution_count": 2,
   "id": "advisory-array",
   "metadata": {},
   "outputs": [],
   "source": [
    "df = pd.read_excel(\"tesla.xlsx\")"
   ]
  },
  {
   "cell_type": "code",
   "execution_count": 3,
   "id": "reported-pattern",
   "metadata": {},
   "outputs": [
    {
     "data": {
      "text/html": [
       "<div>\n",
       "<style scoped>\n",
       "    .dataframe tbody tr th:only-of-type {\n",
       "        vertical-align: middle;\n",
       "    }\n",
       "\n",
       "    .dataframe tbody tr th {\n",
       "        vertical-align: top;\n",
       "    }\n",
       "\n",
       "    .dataframe thead th {\n",
       "        text-align: right;\n",
       "    }\n",
       "</style>\n",
       "<table border=\"1\" class=\"dataframe\">\n",
       "  <thead>\n",
       "    <tr style=\"text-align: right;\">\n",
       "      <th></th>\n",
       "      <th>Date</th>\n",
       "      <th>Close</th>\n",
       "    </tr>\n",
       "  </thead>\n",
       "  <tbody>\n",
       "    <tr>\n",
       "      <th>0</th>\n",
       "      <td>2019-06-03 16:00:00.288</td>\n",
       "      <td>35.79</td>\n",
       "    </tr>\n",
       "    <tr>\n",
       "      <th>1</th>\n",
       "      <td>2019-06-04 16:00:00.288</td>\n",
       "      <td>38.72</td>\n",
       "    </tr>\n",
       "    <tr>\n",
       "      <th>2</th>\n",
       "      <td>2019-06-05 16:00:00.288</td>\n",
       "      <td>39.32</td>\n",
       "    </tr>\n",
       "    <tr>\n",
       "      <th>3</th>\n",
       "      <td>2019-06-06 16:00:00.288</td>\n",
       "      <td>41.19</td>\n",
       "    </tr>\n",
       "    <tr>\n",
       "      <th>4</th>\n",
       "      <td>2019-06-07 16:00:00.288</td>\n",
       "      <td>40.90</td>\n",
       "    </tr>\n",
       "    <tr>\n",
       "      <th>...</th>\n",
       "      <td>...</td>\n",
       "      <td>...</td>\n",
       "    </tr>\n",
       "    <tr>\n",
       "      <th>246</th>\n",
       "      <td>2020-05-22 16:00:00.288</td>\n",
       "      <td>163.38</td>\n",
       "    </tr>\n",
       "    <tr>\n",
       "      <th>247</th>\n",
       "      <td>2020-05-26 16:00:00.288</td>\n",
       "      <td>163.77</td>\n",
       "    </tr>\n",
       "    <tr>\n",
       "      <th>248</th>\n",
       "      <td>2020-05-27 16:00:00.288</td>\n",
       "      <td>164.05</td>\n",
       "    </tr>\n",
       "    <tr>\n",
       "      <th>249</th>\n",
       "      <td>2020-05-28 16:00:00.288</td>\n",
       "      <td>161.16</td>\n",
       "    </tr>\n",
       "    <tr>\n",
       "      <th>250</th>\n",
       "      <td>2020-05-29 16:00:00.288</td>\n",
       "      <td>167.00</td>\n",
       "    </tr>\n",
       "  </tbody>\n",
       "</table>\n",
       "<p>251 rows × 2 columns</p>\n",
       "</div>"
      ],
      "text/plain": [
       "                       Date   Close\n",
       "0   2019-06-03 16:00:00.288   35.79\n",
       "1   2019-06-04 16:00:00.288   38.72\n",
       "2   2019-06-05 16:00:00.288   39.32\n",
       "3   2019-06-06 16:00:00.288   41.19\n",
       "4   2019-06-07 16:00:00.288   40.90\n",
       "..                      ...     ...\n",
       "246 2020-05-22 16:00:00.288  163.38\n",
       "247 2020-05-26 16:00:00.288  163.77\n",
       "248 2020-05-27 16:00:00.288  164.05\n",
       "249 2020-05-28 16:00:00.288  161.16\n",
       "250 2020-05-29 16:00:00.288  167.00\n",
       "\n",
       "[251 rows x 2 columns]"
      ]
     },
     "execution_count": 3,
     "metadata": {},
     "output_type": "execute_result"
    }
   ],
   "source": [
    "df"
   ]
  },
  {
   "cell_type": "markdown",
   "id": "guilty-fiction",
   "metadata": {},
   "source": [
    "## Qn 1: Plotting TSLA's Time Series Chart\n",
    "Simple line chart using Matplotlib with Date and Close as the x and y axis respectively. "
   ]
  },
  {
   "cell_type": "code",
   "execution_count": 4,
   "id": "guided-brunei",
   "metadata": {},
   "outputs": [
    {
     "data": {
      "text/plain": [
       "[<matplotlib.lines.Line2D at 0x24f8768bc70>]"
      ]
     },
     "execution_count": 4,
     "metadata": {},
     "output_type": "execute_result"
    },
    {
     "data": {
      "image/png": "[encoded data removed]",
      "text/plain": [
       "<Figure size 432x288 with 1 Axes>"
      ]
     },
     "metadata": {
      "needs_background": "light"
     },
     "output_type": "display_data"
    }
   ],
   "source": [
    "plt.plot(df[\"Date\"], df[\"Close\"])"
   ]
  },
  {
   "cell_type": "markdown",
   "id": "biblical-specific",
   "metadata": {},
   "source": [
    "## Qn 2: Minimum and Standard Deviation of Closing Prices\n",
    "Outputs them using pandas' built-in functions and formatted in 3dp. "
   ]
  },
  {
   "cell_type": "code",
   "execution_count": 5,
   "id": "unsigned-sponsorship",
   "metadata": {},
   "outputs": [
    {
     "name": "stdout",
     "output_type": "stream",
     "text": [
      "Minimum Closing Price = 35.790\n",
      "Standard Deviation of Closing Price = 43.886\n"
     ]
    }
   ],
   "source": [
    "print(f'Minimum Closing Price = {df.min()[\"Close\"]:.3f}')\n",
    "print(f'Standard Deviation of Closing Price = {df.std()[\"Close\"]:.3f}')"
   ]
  },
  {
   "cell_type": "markdown",
   "id": "printable-yukon",
   "metadata": {},
   "source": [
    "## Qn 3: Boolean 'Signal' Column based on Previous Close\n",
    "Creates a new column based on the condition if the current close is more than the previous day's close. Also counts the number of positive signals (True values). "
   ]
  },
  {
   "cell_type": "code",
   "execution_count": 6,
   "id": "phantom-spending",
   "metadata": {},
   "outputs": [],
   "source": [
    "df[\"Signal\"] = np.where( df[\"Close\"] > df[\"Close\"].shift(1), True, False )"
   ]
  },
  {
   "cell_type": "code",
   "execution_count": 7,
   "id": "outstanding-reservation",
   "metadata": {},
   "outputs": [
    {
     "name": "stdout",
     "output_type": "stream",
     "text": [
      "Number of trading days with positive signals = 142\n"
     ]
    }
   ],
   "source": [
    "print(f'Number of trading days with positive signals = {df[\"Signal\"].value_counts()[True]}')"
   ]
  },
  {
   "cell_type": "markdown",
   "id": "forward-punch",
   "metadata": {},
   "source": [
    "## Qn 4: Boolean 'Naive' Column based on Odd/Even Days\n",
    "Extracts the day of the date before converting them into integers and assigning True if odd, False if even. "
   ]
  },
  {
   "cell_type": "code",
   "execution_count": 8,
   "id": "starting-netscape",
   "metadata": {},
   "outputs": [],
   "source": [
    "df[\"Naive\"] = np.where( df[\"Date\"].dt.strftime(\"%d\").astype(int) % 2, True, False )"
   ]
  },
  {
   "cell_type": "code",
   "execution_count": 9,
   "id": "disciplinary-dinner",
   "metadata": {},
   "outputs": [
    {
     "data": {
      "text/html": [
       "<div>\n",
       "<style scoped>\n",
       "    .dataframe tbody tr th:only-of-type {\n",
       "        vertical-align: middle;\n",
       "    }\n",
       "\n",
       "    .dataframe tbody tr th {\n",
       "        vertical-align: top;\n",
       "    }\n",
       "\n",
       "    .dataframe thead th {\n",
       "        text-align: right;\n",
       "    }\n",
       "</style>\n",
       "<table border=\"1\" class=\"dataframe\">\n",
       "  <thead>\n",
       "    <tr style=\"text-align: right;\">\n",
       "      <th></th>\n",
       "      <th>Date</th>\n",
       "      <th>Close</th>\n",
       "      <th>Signal</th>\n",
       "      <th>Naive</th>\n",
       "    </tr>\n",
       "  </thead>\n",
       "  <tbody>\n",
       "    <tr>\n",
       "      <th>0</th>\n",
       "      <td>2019-06-03 16:00:00.288</td>\n",
       "      <td>35.79</td>\n",
       "      <td>False</td>\n",
       "      <td>True</td>\n",
       "    </tr>\n",
       "    <tr>\n",
       "      <th>1</th>\n",
       "      <td>2019-06-04 16:00:00.288</td>\n",
       "      <td>38.72</td>\n",
       "      <td>True</td>\n",
       "      <td>False</td>\n",
       "    </tr>\n",
       "    <tr>\n",
       "      <th>2</th>\n",
       "      <td>2019-06-05 16:00:00.288</td>\n",
       "      <td>39.32</td>\n",
       "      <td>True</td>\n",
       "      <td>True</td>\n",
       "    </tr>\n",
       "    <tr>\n",
       "      <th>3</th>\n",
       "      <td>2019-06-06 16:00:00.288</td>\n",
       "      <td>41.19</td>\n",
       "      <td>True</td>\n",
       "      <td>False</td>\n",
       "    </tr>\n",
       "    <tr>\n",
       "      <th>4</th>\n",
       "      <td>2019-06-07 16:00:00.288</td>\n",
       "      <td>40.90</td>\n",
       "      <td>False</td>\n",
       "      <td>True</td>\n",
       "    </tr>\n",
       "    <tr>\n",
       "      <th>...</th>\n",
       "      <td>...</td>\n",
       "      <td>...</td>\n",
       "      <td>...</td>\n",
       "      <td>...</td>\n",
       "    </tr>\n",
       "    <tr>\n",
       "      <th>246</th>\n",
       "      <td>2020-05-22 16:00:00.288</td>\n",
       "      <td>163.38</td>\n",
       "      <td>False</td>\n",
       "      <td>False</td>\n",
       "    </tr>\n",
       "    <tr>\n",
       "      <th>247</th>\n",
       "      <td>2020-05-26 16:00:00.288</td>\n",
       "      <td>163.77</td>\n",
       "      <td>True</td>\n",
       "      <td>False</td>\n",
       "    </tr>\n",
       "    <tr>\n",
       "      <th>248</th>\n",
       "      <td>2020-05-27 16:00:00.288</td>\n",
       "      <td>164.05</td>\n",
       "      <td>True</td>\n",
       "      <td>True</td>\n",
       "    </tr>\n",
       "    <tr>\n",
       "      <th>249</th>\n",
       "      <td>2020-05-28 16:00:00.288</td>\n",
       "      <td>161.16</td>\n",
       "      <td>False</td>\n",
       "      <td>False</td>\n",
       "    </tr>\n",
       "    <tr>\n",
       "      <th>250</th>\n",
       "      <td>2020-05-29 16:00:00.288</td>\n",
       "      <td>167.00</td>\n",
       "      <td>True</td>\n",
       "      <td>True</td>\n",
       "    </tr>\n",
       "  </tbody>\n",
       "</table>\n",
       "<p>251 rows × 4 columns</p>\n",
       "</div>"
      ],
      "text/plain": [
       "                       Date   Close  Signal  Naive\n",
       "0   2019-06-03 16:00:00.288   35.79   False   True\n",
       "1   2019-06-04 16:00:00.288   38.72    True  False\n",
       "2   2019-06-05 16:00:00.288   39.32    True   True\n",
       "3   2019-06-06 16:00:00.288   41.19    True  False\n",
       "4   2019-06-07 16:00:00.288   40.90   False   True\n",
       "..                      ...     ...     ...    ...\n",
       "246 2020-05-22 16:00:00.288  163.38   False  False\n",
       "247 2020-05-26 16:00:00.288  163.77    True  False\n",
       "248 2020-05-27 16:00:00.288  164.05    True   True\n",
       "249 2020-05-28 16:00:00.288  161.16   False  False\n",
       "250 2020-05-29 16:00:00.288  167.00    True   True\n",
       "\n",
       "[251 rows x 4 columns]"
      ]
     },
     "execution_count": 9,
     "metadata": {},
     "output_type": "execute_result"
    }
   ],
   "source": [
    "df"
   ]
  },
  {
   "cell_type": "markdown",
   "id": "painful-length",
   "metadata": {},
   "source": [
    "## Qn 5: Accuracy of the Naive Model\n",
    "Creates an 'Accuracy' column to find how many predictions the Naive model makes \"correctly\" (same value as the Signal column) before dividing by the total number of data points. "
   ]
  },
  {
   "cell_type": "code",
   "execution_count": 10,
   "id": "danish-profession",
   "metadata": {},
   "outputs": [],
   "source": [
    "df[\"Accuracy\"] = np.where( df[\"Naive\"] == df[\"Signal\"], True, False )"
   ]
  },
  {
   "cell_type": "code",
   "execution_count": 11,
   "id": "subject-infection",
   "metadata": {},
   "outputs": [
    {
     "name": "stdout",
     "output_type": "stream",
     "text": [
      "Naive Model Accuracy = 51.39%\n"
     ]
    }
   ],
   "source": [
    "pct_accuracy = df[\"Accuracy\"].value_counts()[True] / df.shape[0] * 100\n",
    "print(f'Naive Model Accuracy = {pct_accuracy:.2f}%')"
   ]
  }
 ],
 "metadata": {
  "kernelspec": {
   "display_name": "Python 3",
   "language": "python",
   "name": "python3"
  },
  "language_info": {
   "codemirror_mode": {
    "name": "ipython",
    "version": 3
   },
   "file_extension": ".py",
   "mimetype": "text/x-python",
   "name": "python",
   "nbconvert_exporter": "python",
   "pygments_lexer": "ipython3",
   "version": "3.9.0"
  }
 },
 "nbformat": 4,
 "nbformat_minor": 5
}
